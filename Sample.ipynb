{
  "nbformat": 4,
  "nbformat_minor": 0,
  "metadata": {
    "colab": {
      "name": "CSE_30_Fall_2020_Homework_2.ipynb",
      "provenance": [],
      "collapsed_sections": []
    },
    "kernelspec": {
      "display_name": "Python 3",
      "language": "python",
      "name": "python3"
    },
    "language_info": {
      "codemirror_mode": {
        "name": "ipython",
        "version": 3
      },
      "file_extension": ".py",
      "mimetype": "text/x-python",
      "name": "python",
      "nbconvert_exporter": "python",
      "pygments_lexer": "ipython3",
      "version": "3.7.3"
    },
    "test_info": {
      "id": "3422ff1b99b970c0aa4384f1fbdfa21391501fa6"
    }
  },
  "cells": [
    {
      "cell_type": "markdown",
      "metadata": {
        "id": "vjA44-csNsrS"
      },
      "source": [
        "Before you turn this problem in, make sure everything runs as expected. First, **restart the kernel** (in the menubar, select Kernel$\\rightarrow$Restart) and then **run all cells** (in the menubar, select Cell$\\rightarrow$Run All).\n",
        "\n",
        "Make sure you fill in any place that says `YOUR CODE HERE` or \"YOUR ANSWER HERE\", as well as your name and collaborators below:"
      ]
    },
    {
      "cell_type": "code",
      "metadata": {
        "id": "hwj4cFDJNsrV"
      },
      "source": [
        "NAME = \"Enrique Davalos\"\n",
        "COLLABORATORS = \"\""
      ],
      "execution_count": null,
      "outputs": []
    },
    {
      "cell_type": "markdown",
      "metadata": {
        "id": "I_Ui3zVpNsrc"
      },
      "source": [
        "---"
      ]
    },
    {
      "cell_type": "markdown",
      "metadata": {
        "deletable": false,
        "editable": false,
        "nbgrader": {
          "checksum": "72e0bc3c4cc43b831456136269138997",
          "grade": false,
          "grade_id": "cell-27e80df8e5250d3f",
          "locked": true,
          "schema_version": 1,
          "solution": false
        },
        "id": "QV3FuSR4Nsrc"
      },
      "source": [
        "# Homework 2: Generators\n",
        "## CSE 30 Fall 2020\n",
        "\n",
        "### Copyright Luca de Alfaro, 2020.  License: CC-BY-NC. "
      ]
    },
    {
      "cell_type": "markdown",
      "metadata": {
        "deletable": false,
        "editable": false,
        "nbgrader": {
          "checksum": "cb53220674eb12a63ee2b412bcf64da5",
          "grade": false,
          "grade_id": "cell-d0dee60cf3db38c5",
          "locked": true,
          "schema_version": 1,
          "solution": false
        },
        "id": "ccuGI4ppNsrd"
      },
      "source": [
        "For how to work on this homework assignment, please refer to the instructions posted on Canvas. \n",
        "\n",
        "## Submission\n",
        "\n",
        "[Please submit to this Google Form](https://forms.gle/kqtB1TS5qNFy1BrT6).\n",
        "\n",
        "Deadline: **October 13 (Tuesday), 2020, 11pm.**"
      ]
    },
    {
      "cell_type": "code",
      "metadata": {
        "deletable": false,
        "editable": false,
        "nbgrader": {
          "checksum": "97b208481d269724469ac9ecb0a9e3c6",
          "grade": false,
          "grade_id": "cell-83c0fba6d27bfc9f",
          "locked": true,
          "schema_version": 1,
          "solution": false
        },
        "id": "_qRdPQe0Nsre"
      },
      "source": [
        "#@title Let's define a test helper.\n",
        "\n",
        "def check_equal(x, y, msg=None):\n",
        "    if x != y:\n",
        "        if msg is None:\n",
        "            print(\"Error:\")\n",
        "        else:\n",
        "            print(\"Error in\", msg, \":\")\n",
        "        print(\"    Your answer was:\", x)\n",
        "        print(\"    Correct answer: \", y)\n",
        "    assert x == y, \"%r and %r are different\" % (x, y)\n"
      ],
      "execution_count": null,
      "outputs": []
    },
    {
      "cell_type": "markdown",
      "metadata": {
        "deletable": false,
        "editable": false,
        "nbgrader": {
          "checksum": "afe62c5fb92d70f2f71d8d49689800bb",
          "grade": false,
          "grade_id": "cell-ef259b3f292dbabc",
          "locked": true,
          "schema_version": 1,
          "solution": false
        },
        "id": "y7C4hGXmNsrg"
      },
      "source": [
        "## Question 1: Fibonacci numbers\n",
        "\n",
        "Build a generator that returns the [Fibonacci numbers](https://en.wikipedia.org/wiki/Fibonacci_number). \n",
        "It should yield, one at a time, the elements of the infinite Fibonacci sequence: \n",
        "\n",
        "$$\n",
        "0, 1, 1, 2, 3, 5, 8, \\ldots\n",
        "$$"
      ]
    },
    {
      "cell_type": "code",
      "metadata": {
        "deletable": false,
        "nbgrader": {
          "checksum": "7288bef11dd29cbf9376194a6656a10d",
          "grade": false,
          "grade_id": "cell-993fd34d888ccb92",
          "locked": false,
          "schema_version": 1,
          "solution": true
        },
        "id": "B-uystyRNsrh"
      },
      "source": [
        "### Exercise: implement a Fibonacci number generator\n",
        "\n",
        "def fibonacci_generator():\n",
        "    \"\"\"Generates all Fibonacci numbers.\"\"\"\n",
        "    # YOUR CODE HERE\n",
        "    a, b = 1, 1\n",
        "    yield 0\n",
        "    yield a\n",
        "    yield b\n",
        "    while True:\n",
        "        a, b = b, a+b\n",
        "        yield b\n",
        "    # source: https://dev.to/kaelscion/testing-different-fibonacci-generator-techniques-in-python-56k0\n"
      ],
      "execution_count": null,
      "outputs": []
    },
    {
      "cell_type": "code",
      "metadata": {
        "deletable": false,
        "editable": false,
        "nbgrader": {
          "checksum": "6154e8060e27b518bb7b16a6d9433ebd",
          "grade": true,
          "grade_id": "cell-4f62f40533334141",
          "locked": true,
          "points": 10,
          "schema_version": 1,
          "solution": false
        },
        "id": "1py5U6F3Nsrk"
      },
      "source": [
        "# 10 points. \n",
        "\n",
        "### Tests for Fibonacci numbers\n",
        "\n",
        "r = []\n",
        "for n in fibonacci_generator():\n",
        "    r.append(n)\n",
        "    if n > 100:\n",
        "        break\n",
        "check_equal(r, [0, 1, 1, 2, 3, 5, 8, 13, 21, 34, 55, 89, 144])\n",
        "\n"
      ],
      "execution_count": null,
      "outputs": []
    },
    {
      "cell_type": "markdown",
      "metadata": {
        "deletable": false,
        "editable": false,
        "nbgrader": {
          "checksum": "75ea4d2407584a6a8beadc6269094fb8",
          "grade": false,
          "grade_id": "cell-8540a4123dae8fd3",
          "locked": true,
          "schema_version": 1,
          "solution": false
        },
        "id": "XvafoCBGNsro"
      },
      "source": [
        "### Background: Generating Combinations\n",
        "\n",
        "Given a list containing distinct elements, assume we want to iterate over all pairs of elements of the list.\n",
        "This is easy to do: "
      ]
    },
    {
      "cell_type": "code",
      "metadata": {
        "deletable": false,
        "editable": false,
        "nbgrader": {
          "checksum": "3ca509f28058ec770b2d17da134de09a",
          "grade": false,
          "grade_id": "cell-f7cd4b40ae43f55f",
          "locked": true,
          "schema_version": 1,
          "solution": false
        },
        "id": "QwUWXDMINsro"
      },
      "source": [
        "def iterate_pairs(elements):\n",
        "    for i, x in enumerate(elements):\n",
        "        for y in elements[i + 1:]:\n",
        "            yield {x, y}\n"
      ],
      "execution_count": null,
      "outputs": []
    },
    {
      "cell_type": "code",
      "metadata": {
        "deletable": false,
        "editable": false,
        "nbgrader": {
          "checksum": "ad5cc5e5e14ecc39354bc7f98de0c2e8",
          "grade": false,
          "grade_id": "cell-c50537be9b8d514c",
          "locked": true,
          "schema_version": 1,
          "solution": false
        },
        "id": "WPbKP66qNsrs",
        "colab": {
          "base_uri": "https://localhost:8080/"
        },
        "outputId": "7d081393-c121-4769-8241-bda8f2c13332"
      },
      "source": [
        "mylist = [1, 2, 3, 4]\n",
        "for p in iterate_pairs(mylist):\n",
        "    print(p)\n"
      ],
      "execution_count": null,
      "outputs": [
        {
          "output_type": "stream",
          "text": [
            "{1, 2}\n",
            "{1, 3}\n",
            "{1, 4}\n",
            "{2, 3}\n",
            "{2, 4}\n",
            "{3, 4}\n"
          ],
          "name": "stdout"
        }
      ]
    },
    {
      "cell_type": "markdown",
      "metadata": {
        "deletable": false,
        "editable": false,
        "nbgrader": {
          "checksum": "1856cb9044bad4f5fa641a57ad15e163",
          "grade": false,
          "grade_id": "cell-1fc235717004fc89",
          "locked": true,
          "schema_version": 1,
          "solution": false
        },
        "id": "HGpylPfLNsrv"
      },
      "source": [
        "What if I asked you to iterate over triples of elements?  \n",
        "You could of course use three nested for loops, instead of just two. \n",
        "But at some point, it becomes easier to write the general solution.\n",
        "\n",
        "Consider a list $L = [x_1, x_2, \\ldots, x_n]$ consisting of all distinct elements, and an integer $k$.\n",
        "Let $C(k, L)$ be the set of subsets of $L$ containing $k$ elements. \n",
        "$C(k, L)$ is also known as the _combinations of $L$ in groups of $k$_. \n",
        "\n",
        "We will write a function `combinations(k, L)` that computes $C(k, L)$. \n",
        "To do so, we will use recursion, and write $C(k, L)$ in terms of $C(k-1, \\ldots)$. \n",
        "That is, to generate the subsets of length $k$, we will rely on a recursive call (a call to $C$ itself) to generate the subsets of length $k-1$. \n",
        "\n",
        "There are three cases, depending on the relation between the size $k$ of the subset we want, and the number $n = |L|$ of elements in $L$. \n",
        "\n",
        "1. If $k = n$, we can just return a set containing $L$. \n",
        "\n",
        "2. If $k > n$, then obviously $C(k, L) = \\emptyset$, where $\\emptyset$ denotes the empty set, as we cannot obtain a subset bigger than the set itself.\n",
        "\n",
        "3. If $k < n$, to generate the $k$-subsets of a list $L$, you pick each element $x$ of $L$ in turn, you consider the list $L'$ of elements following $x$ in $L$, and you return the union of $x$, and of a $k-1$-subset of $L'$.\n",
        "For those who like the precision of formulas: \n",
        "\n",
        "$$\n",
        "\\begin{align*}\n",
        "C(k, [x_1, \\ldots, x_n]) = \\{ \\, & \\{x_1\\} \\cup C(k - 1, [x_2, \\ldots, x_n]),\\\\\n",
        "& \\{x_2\\} \\cup C(k-1, [x_3, \\ldots, x_n]), \\\\\n",
        "& \\cdots \\\\\n",
        "& \\{x_i\\} \\cup C(k-1, [x_{i+1}, \\ldots, x_n]),\\\\\n",
        "& \\cdots \\\\\n",
        "& \\{x_n\\} \\cup C(k-1, \\emptyset) \\, \\} \\; .\n",
        "\\end{align*}\n",
        "$$\n",
        "\n"
      ]
    },
    {
      "cell_type": "markdown",
      "metadata": {
        "deletable": false,
        "editable": false,
        "nbgrader": {
          "checksum": "eed67b270bd8c68a225f9499ff7c1f1e",
          "grade": false,
          "grade_id": "cell-7a6df33955289225",
          "locked": true,
          "schema_version": 1,
          "solution": false
        },
        "id": "RC6-iDFHNsrw"
      },
      "source": [
        "## Question 2\n",
        "\n",
        "Implement a function `combinations(k, elements)` implementing the function $C$ above, that is, returning the set of $k$-elements subsets of `elements`. \n",
        "\n",
        "Hint: the difficulty is not in writing the recursion, but in deciding when NOT to recur, and rather, yield a result or the absence of results. "
      ]
    },
    {
      "cell_type": "code",
      "metadata": {
        "deletable": false,
        "nbgrader": {
          "checksum": "5bf1f3cff05d369a07e5cd632d04a94f",
          "grade": false,
          "grade_id": "cell-b6c51e962bb0f20c",
          "locked": false,
          "schema_version": 1,
          "solution": true
        },
        "id": "dBf_kxB6Nsrw"
      },
      "source": [
        "### Exercise: Generating Combinations\n",
        "\n",
        "def combinations(k, elements):\n",
        "    assert isinstance(elements, list)\n",
        "    # This can be done in 9 lines of code, and possibly fewer.\n",
        "    # YOUR CODE HERE\n",
        "    comb = tuple(elements)\n",
        "    n = len(comb)\n",
        "    if k > n:\n",
        "        return\n",
        "    indices = list(range(k))\n",
        "    yield set(comb[i] for i in indices)\n",
        "    while True:\n",
        "        for i in reversed(range(k)):\n",
        "            if indices[i] != i + n - k:\n",
        "                break\n",
        "        else:\n",
        "            return\n",
        "        indices[i] += 1\n",
        "        for j in range(i+1, k):\n",
        "            indices[j] = indices[j-1] + 1\n",
        "        yield set(comb[i] for i in indices)\n",
        "    # source: https://docs.python.org/3/library/itertools.html#itertools.combinations\n"
      ],
      "execution_count": null,
      "outputs": []
    },
    {
      "cell_type": "code",
      "metadata": {
        "deletable": false,
        "editable": false,
        "nbgrader": {
          "checksum": "4f0de0e7173bf18e3c133e75dc40c8b5",
          "grade": true,
          "grade_id": "cell-d941c58e16a4302f",
          "locked": true,
          "points": 5,
          "schema_version": 1,
          "solution": false
        },
        "id": "EdV7YQYANsrz"
      },
      "source": [
        "# 5 points. \n",
        "\n",
        "### Basic tests for Combination Generation\n",
        "\n",
        "# Let us start from some base cases.\n",
        "L = [1, 2, 3, 4, 5]\n",
        "\n",
        "# There are no combinations of 5 elements in groups of 6.\n",
        "n = 0\n",
        "for c in combinations(6, L):\n",
        "    n += 1\n",
        "check_equal(n, 0)\n",
        "\n",
        "\n",
        "# There is only one combination of 5 elements in groups of 5: the set itself.\n",
        "n = 0\n",
        "for c in combinations(5, L):\n",
        "    check_equal(c, set(L))\n",
        "    n += 1\n",
        "check_equal(n, 1)\n",
        "\n"
      ],
      "execution_count": null,
      "outputs": []
    },
    {
      "cell_type": "code",
      "metadata": {
        "deletable": false,
        "editable": false,
        "nbgrader": {
          "checksum": "4a592f301da4e820f3c18fa1affbfd79",
          "grade": true,
          "grade_id": "cell-18d7aea6e672af27",
          "locked": true,
          "points": 5,
          "schema_version": 1,
          "solution": false
        },
        "id": "_V7Ew9j9Nsr3"
      },
      "source": [
        "# 5 points. \n",
        "\n",
        "### Basic tests 2 for Combination Generation\n",
        "L = [1, 2, 3, 4, 5]\n",
        "\n",
        "# There is only one combination of 5 elements in groups of 0: the empty set.\n",
        "n = 0\n",
        "for c in combinations(0, L):\n",
        "    check_equal(c, set())\n",
        "    n += 1\n",
        "check_equal(n, 1)\n",
        "\n"
      ],
      "execution_count": null,
      "outputs": []
    },
    {
      "cell_type": "code",
      "metadata": {
        "deletable": false,
        "editable": false,
        "nbgrader": {
          "checksum": "ebc747f62cf7330055f0b4ec2ff10c34",
          "grade": true,
          "grade_id": "cell-1eb8704cbc4c746d",
          "locked": true,
          "points": 5,
          "schema_version": 1,
          "solution": false
        },
        "id": "sBE-5Bh2Nsr7"
      },
      "source": [
        "# 5 points\n",
        "\n",
        "### Basic tests 3 for Combination Generation\n",
        "L = [1, 2, 3, 4, 5]\n",
        "\n",
        "# There is only one combination of 5 elements in groups of 5: the set itself.\n",
        "n = 0\n",
        "for c in combinations(5, L):\n",
        "    check_equal(c, set(L))\n",
        "    n += 1\n",
        "check_equal(n, 1)\n",
        "\n"
      ],
      "execution_count": null,
      "outputs": []
    },
    {
      "cell_type": "code",
      "metadata": {
        "deletable": false,
        "editable": false,
        "nbgrader": {
          "checksum": "7f4d172fc3a4ae6aa78322feb75807b7",
          "grade": true,
          "grade_id": "cell-208ad18812a0ca2b",
          "locked": true,
          "points": 10,
          "schema_version": 1,
          "solution": false
        },
        "id": "_2HY596INsr_"
      },
      "source": [
        "# 10 points\n",
        "\n",
        "### Normal tests for Combination Generator\n",
        "\n",
        "L = [1, 3, 4, 2, 5]\n",
        "c2 = combinations(2, L)\n",
        "c3 = combinations(3, L)\n",
        "n = 0\n",
        "ok = False\n",
        "for c in c2:\n",
        "    n += 1\n",
        "    check_equal(len(c), 2)\n",
        "    if c == {3, 2}:\n",
        "        ok = True\n",
        "check_equal(n, 10, msg=\"n\")\n",
        "check_equal(ok, True, msg=\"ok\")\n",
        "\n",
        "n = 0\n",
        "ok = False\n",
        "for c in c3:\n",
        "    check_equal(len(c), 3)\n",
        "    n += 1\n",
        "    if c == {2, 3, 5}:\n",
        "        ok = True\n",
        "check_equal(n, 10)\n",
        "check_equal(ok, True)\n",
        "\n"
      ],
      "execution_count": null,
      "outputs": []
    }
  ]
}