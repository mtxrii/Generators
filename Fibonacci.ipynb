{
  "nbformat": 4,
  "nbformat_minor": 0,
  "metadata": {
    "colab": {
      "name": "Fibonacci.ipynb",
      "provenance": []
    },
    "kernelspec": {
      "name": "python3",
      "display_name": "Python 3"
    }
  },
  "cells": [
    {
      "cell_type": "markdown",
      "metadata": {
        "id": "8m4T0LOZ-b1O"
      },
      "source": [
        "# Fibonacci Iterator\r\n",
        "Generates all Fibonacci numbers. If integer argument provided, stops at that iteration."
      ]
    },
    {
      "cell_type": "code",
      "metadata": {
        "id": "phIILcyv-PP9"
      },
      "source": [
        "def fib(*args):\r\n",
        "    stop = -1\r\n",
        "    iteration = 0\r\n",
        "    if len(args) == 1 and isinstance(args[0], int) and args[0] >= 0:\r\n",
        "        stop = args[0]\r\n",
        "    \r\n",
        "    a = b = 1\r\n",
        "    if stop < 0:\r\n",
        "        while True:\r\n",
        "            yield a\r\n",
        "            a, b = b, a+b\r\n",
        "    elif stop > 0:\r\n",
        "        for i in range(stop):\r\n",
        "            yield a\r\n",
        "            a, b = b, a+b"
      ],
      "execution_count": 18,
      "outputs": []
    },
    {
      "cell_type": "code",
      "metadata": {
        "id": "0GaQqhSGKK4S"
      },
      "source": [
        "for i in fib():\r\n",
        "    print(i)"
      ],
      "execution_count": null,
      "outputs": []
    }
  ]
}