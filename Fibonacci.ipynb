{
  "nbformat": 4,
  "nbformat_minor": 0,
  "metadata": {
    "colab": {
      "name": "Fibonacci.ipynb",
      "provenance": []
    },
    "kernelspec": {
      "name": "python3",
      "display_name": "Python 3"
    }
  },
  "cells": [
    {
      "cell_type": "markdown",
      "metadata": {
        "id": "8m4T0LOZ-b1O"
      },
      "source": [
        "# Fibonacci Iterator\r\n",
        "## Usage 1:\r\n",
        "Arguments:\r\n",
        "* integer\r\n",
        "\r\n",
        "Yields:\r\n",
        "* all numbers in the fibonacci sequence up to the given integer.\r\n",
        "\r\n",
        "## Usage 2:\r\n",
        "Arguments:\r\n",
        "* range\r\n",
        "\r\n",
        "Yields:\r\n",
        "* the nth fibonacci number for every n in the given range."
      ]
    },
    {
      "cell_type": "code",
      "metadata": {
        "id": "phIILcyv-PP9"
      },
      "source": [
        ""
      ],
      "execution_count": null,
      "outputs": []
    }
  ]
}